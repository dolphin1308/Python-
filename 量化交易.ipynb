{
 "cells": [
  {
   "cell_type": "markdown",
   "metadata": {},
   "source": [
    "用计算机分析策略\n",
    "机器学习 统计方法  Python 各种实用工具和算法\n",
    "回归，分类，聚类 特征工程 * 数据\n",
    "统计分析方法\n",
    "回测框架\n",
    "策略算法\n",
    "\n",
    "股票->数据挖掘容易\n",
    "期货->数据挖掘难 难度大\n",
    "\n",
    "基于历史数据进行模拟交易，研究分析策略对结果的影响"
   ]
  }
 ],
 "metadata": {
  "language_info": {
   "name": "python"
  }
 },
 "nbformat": 4,
 "nbformat_minor": 2
}
