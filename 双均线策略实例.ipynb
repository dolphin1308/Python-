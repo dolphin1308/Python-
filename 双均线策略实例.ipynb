{
 "cells": [
  {
   "cell_type": "code",
   "execution_count": 1,
   "metadata": {},
   "outputs": [],
   "source": [
    "import warnings\n",
    "warnings.filterwarnings('ignore')\n",
    "import numpy as np\n",
    "import pandas as pd\n",
    "import matplotlib.pyplot as plt\n",
    "plt.style.use('seaborn')\n",
    "%matplotlib inline"
   ]
  },
  {
   "cell_type": "code",
   "execution_count": null,
   "metadata": {},
   "outputs": [],
   "source": [
    "data=pd.read_csv('data.cvs',index_col=0,parse_dates=True)"
   ]
  },
  {
   "cell_type": "code",
   "execution_count": null,
   "metadata": {},
   "outputs": [],
   "source": [
    "data.head()"
   ]
  },
  {
   "cell_type": "markdown",
   "metadata": {},
   "source": [
    "### 分别计算短期和长期均线\n",
    "- 1.去掉缺失值\n",
    "- 2.计算短期长期均线\n",
    "- 3.标记短期与长期均线的位置关系"
   ]
  },
  {
   "cell_type": "code",
   "execution_count": null,
   "metadata": {},
   "outputs": [],
   "source": [
    "data=data[['AAPL.0']].dropna()\n",
    "data.head()"
   ]
  },
  {
   "cell_type": "code",
   "execution_count": 2,
   "metadata": {},
   "outputs": [],
   "source": [
    "SMA1=42\n",
    "SMA2=252"
   ]
  },
  {
   "cell_type": "code",
   "execution_count": null,
   "metadata": {},
   "outputs": [],
   "source": [
    "data['SMA1']=data.rolling(SMA1).mean()\n",
    "data['SMA2']=data['AAPL.0'].rolling(SMA2).mean()\n",
    "data.head()"
   ]
  },
  {
   "cell_type": "code",
   "execution_count": null,
   "metadata": {},
   "outputs": [],
   "source": [
    "data.plot(figsize=(10,6))"
   ]
  },
  {
   "cell_type": "code",
   "execution_count": null,
   "metadata": {},
   "outputs": [],
   "source": [
    "data.dropna(inplace=True)"
   ]
  },
  {
   "cell_type": "code",
   "execution_count": null,
   "metadata": {},
   "outputs": [],
   "source": [
    "data['Position']=np.where(data['SMA1']>data['SMA2'],1,-1)"
   ]
  },
  {
   "cell_type": "code",
   "execution_count": null,
   "metadata": {},
   "outputs": [],
   "source": [
    "data.plot(secondary_y='Position',figsize=(10,6))"
   ]
  },
  {
   "cell_type": "markdown",
   "metadata": {},
   "source": [
    "# 策略实施\n",
    "- 分别计算有策略和无策略的回报"
   ]
  },
  {
   "cell_type": "code",
   "execution_count": null,
   "metadata": {},
   "outputs": [],
   "source": [
    "data['Returns']=np.log(data['AAPL.0']/data['AAPL.0'].shift(1))"
   ]
  },
  {
   "cell_type": "code",
   "execution_count": null,
   "metadata": {},
   "outputs": [],
   "source": [
    "data['Strategy']=data['Position'].shift(1)*data['Returns']\n",
    "data.tail()"
   ]
  },
  {
   "cell_type": "code",
   "execution_count": null,
   "metadata": {},
   "outputs": [],
   "source": [
    "data.dropna(inplace=True)"
   ]
  },
  {
   "cell_type": "code",
   "execution_count": null,
   "metadata": {},
   "outputs": [],
   "source": [
    "np.exp(data[['Returns','Strategy']].sum())"
   ]
  },
  {
   "cell_type": "markdown",
   "metadata": {},
   "source": [
    "# 短期和长期均线选择天数\n",
    "- 遍历不同的长短期数值"
   ]
  },
  {
   "cell_type": "code",
   "execution_count": null,
   "metadata": {},
   "outputs": [],
   "source": [
    "data=pd.read_csv('data.cvs',index_col=0,parse_dates=True)"
   ]
  },
  {
   "cell_type": "code",
   "execution_count": 5,
   "metadata": {},
   "outputs": [],
   "source": [
    "from itertools import product\n",
    "sma1=range(20,61,4)\n",
    "sma2=range(180,281,10)"
   ]
  },
  {
   "cell_type": "code",
   "execution_count": null,
   "metadata": {},
   "outputs": [],
   "source": [
    "result=pd.DataFrame()\n",
    "for SMA1,SMA2 in product(sma1,sma2)\n",
    "    data=data['AAPL.0']\n",
    "    data.dropna(inplace=True)\n",
    "    data['Returns']=np.log(data['AAPL.0']/data['AAPL.0'].shift(1))\n",
    "    data['SMA1']=data['AAPL.0'].rolling(SMA1).mean()\n",
    "    data['SMA2']=data['AAPL.0'].rolling(SMA2).mean()\n",
    "    data.dropna(inplace=True)\n",
    "    data['Position']=np.where(data['SMA1']>data['SMA2'],1,-1)\n",
    "    data['Strategy']=data['Position'].shift(1)*data['Returns']\n",
    "    data.dropna(inplace=True)\n",
    "    pref=np.exp(data[['Returns','Strategy']].sum())\n",
    "    results=results.append(pd.DataFrame({'SAM1':SMA1,'SMA2':SMA2,'Returns':pref['Returns'],'Strategy':pref['Strategy'],'Out':pref['Strategy']-pref['Returns']},\n",
    "    index=[0]),ignore_index=True)"
   ]
  },
  {
   "cell_type": "code",
   "execution_count": null,
   "metadata": {},
   "outputs": [],
   "source": [
    "result.head(10)"
   ]
  }
 ],
 "metadata": {
  "kernelspec": {
   "display_name": "dolphin",
   "language": "python",
   "name": "python3"
  },
  "language_info": {
   "codemirror_mode": {
    "name": "ipython",
    "version": 3
   },
   "file_extension": ".py",
   "mimetype": "text/x-python",
   "name": "python",
   "nbconvert_exporter": "python",
   "pygments_lexer": "ipython3",
   "version": "3.8.19"
  }
 },
 "nbformat": 4,
 "nbformat_minor": 2
}
